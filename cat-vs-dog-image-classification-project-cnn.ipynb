{
 "cells": [
  {
   "cell_type": "markdown",
   "id": "d2dbeca5",
   "metadata": {
    "papermill": {
     "duration": 0.007088,
     "end_time": "2024-04-08T22:42:38.068509",
     "exception": false,
     "start_time": "2024-04-08T22:42:38.061421",
     "status": "completed"
    },
    "tags": []
   },
   "source": [
    "# Paws vs. Whiskers: Building Your Own Cat vs. Dog Classifier Using Keras"
   ]
  },
  {
   "cell_type": "markdown",
   "id": "2f419f5f",
   "metadata": {
    "papermill": {
     "duration": 0.006091,
     "end_time": "2024-04-08T22:42:38.081200",
     "exception": false,
     "start_time": "2024-04-08T22:42:38.075109",
     "status": "completed"
    },
    "tags": []
   },
   "source": [
    "\n",
    "**Introduction:**\n",
    "\n",
    "In today's digital age, image classification has become an integral part of various applications, from social media content filtering to medical diagnostics. One of the classic tasks in image classification is distinguishing between cats and dogs using Convolutional Neural Networks (CNNs) architecture. With the advancements in deep learning and frameworks like Keras, building such classifiers has become more accessible even with limited computational resources."
   ]
  },
  {
   "cell_type": "code",
   "execution_count": 1,
   "id": "fd7e768c",
   "metadata": {
    "execution": {
     "iopub.execute_input": "2024-04-08T22:42:38.096303Z",
     "iopub.status.busy": "2024-04-08T22:42:38.095630Z",
     "iopub.status.idle": "2024-04-08T22:42:51.024167Z",
     "shell.execute_reply": "2024-04-08T22:42:51.023121Z"
    },
    "papermill": {
     "duration": 12.939028,
     "end_time": "2024-04-08T22:42:51.026774",
     "exception": false,
     "start_time": "2024-04-08T22:42:38.087746",
     "status": "completed"
    },
    "tags": []
   },
   "outputs": [
    {
     "name": "stderr",
     "output_type": "stream",
     "text": [
      "2024-04-08 22:42:39.885541: E external/local_xla/xla/stream_executor/cuda/cuda_dnn.cc:9261] Unable to register cuDNN factory: Attempting to register factory for plugin cuDNN when one has already been registered\n",
      "2024-04-08 22:42:39.885683: E external/local_xla/xla/stream_executor/cuda/cuda_fft.cc:607] Unable to register cuFFT factory: Attempting to register factory for plugin cuFFT when one has already been registered\n",
      "2024-04-08 22:42:40.016963: E external/local_xla/xla/stream_executor/cuda/cuda_blas.cc:1515] Unable to register cuBLAS factory: Attempting to register factory for plugin cuBLAS when one has already been registered\n"
     ]
    }
   ],
   "source": [
    "import tensorflow as tf\n",
    "from tensorflow import keras\n",
    "from keras import Sequential\n",
    "from keras.layers import Dense,Conv2D,MaxPooling2D,Flatten,BatchNormalization,Dropout"
   ]
  },
  {
   "cell_type": "code",
   "execution_count": 2,
   "id": "7b4b50a7",
   "metadata": {
    "execution": {
     "iopub.execute_input": "2024-04-08T22:42:51.040786Z",
     "iopub.status.busy": "2024-04-08T22:42:51.040273Z",
     "iopub.status.idle": "2024-04-08T22:43:10.289938Z",
     "shell.execute_reply": "2024-04-08T22:43:10.289070Z"
    },
    "papermill": {
     "duration": 19.2593,
     "end_time": "2024-04-08T22:43:10.292645",
     "exception": false,
     "start_time": "2024-04-08T22:42:51.033345",
     "status": "completed"
    },
    "tags": []
   },
   "outputs": [
    {
     "name": "stdout",
     "output_type": "stream",
     "text": [
      "Found 20000 files belonging to 2 classes.\n",
      "Using 16000 files for training.\n",
      "Found 20000 files belonging to 2 classes.\n",
      "Using 4000 files for validation.\n"
     ]
    }
   ],
   "source": [
    "import tensorflow as tf\n",
    "from tensorflow import keras\n",
    "# Define paths to the directories containing the images\n",
    "train_dir = '/kaggle/input/dogs-vs-cats/train'\n",
    "test_dir = '/kaggle/input/dogs-vs-cats/test'\n",
    "\n",
    "# Define image size and batch size\n",
    "image_size = (256, 256)\n",
    "batch_size = 32\n",
    "\n",
    "# Create training and validation datasets using image_dataset_from_directory\n",
    "# To load a small batch of data in RAM - use generators (image_dataset_from_directory) from keras library\n",
    "\n",
    "train_ds = keras.utils.image_dataset_from_directory(\n",
    "    directory=train_dir,\n",
    "    labels='inferred',\n",
    "    label_mode='int',    # assign 0 and 1 to cat and dog respectively\n",
    "    batch_size=batch_size,\n",
    "    image_size=image_size,  # converting the size of all images into one standard size\n",
    "    validation_split=0.2,  # Splitting 20% of the data for validation\n",
    "    subset='training',  # Training dataset\n",
    "    seed=42 \n",
    ")\n",
    "\n",
    "validation_ds = keras.utils.image_dataset_from_directory(\n",
    "    directory=train_dir,\n",
    "    labels='inferred',\n",
    "    label_mode='int',\n",
    "    batch_size=batch_size,\n",
    "    image_size=image_size,\n",
    "    validation_split=0.2,  # Splitting 20% of the data for validation\n",
    "    subset='validation',  # Validation dataset\n",
    "    seed=42 \n",
    ")\n",
    "\n",
    "# convert the numpy array output pixels values from (0 to 255) to (0 to 1) - NORMALIZE\n",
    "# Normalize the pixel values\n",
    "def process(image, label):\n",
    "    image = tf.cast(image / 255., tf.float32)\n",
    "    return image, label\n",
    "\n",
    "train_ds = train_ds.map(process)\n",
    "validation_ds = validation_ds.map(process)\n"
   ]
  },
  {
   "cell_type": "markdown",
   "id": "738e3340",
   "metadata": {
    "papermill": {
     "duration": 0.006868,
     "end_time": "2024-04-08T22:43:10.306976",
     "exception": false,
     "start_time": "2024-04-08T22:43:10.300108",
     "status": "completed"
    },
    "tags": []
   },
   "source": [
    "**Model Building**"
   ]
  },
  {
   "cell_type": "code",
   "execution_count": 3,
   "id": "bebe8ed0",
   "metadata": {
    "execution": {
     "iopub.execute_input": "2024-04-08T22:43:10.322205Z",
     "iopub.status.busy": "2024-04-08T22:43:10.321856Z",
     "iopub.status.idle": "2024-04-08T22:43:10.534260Z",
     "shell.execute_reply": "2024-04-08T22:43:10.533281Z"
    },
    "papermill": {
     "duration": 0.222512,
     "end_time": "2024-04-08T22:43:10.536434",
     "exception": false,
     "start_time": "2024-04-08T22:43:10.313922",
     "status": "completed"
    },
    "tags": []
   },
   "outputs": [
    {
     "name": "stderr",
     "output_type": "stream",
     "text": [
      "/opt/conda/lib/python3.10/site-packages/keras/src/layers/convolutional/base_conv.py:99: UserWarning: Do not pass an `input_shape`/`input_dim` argument to a layer. When using Sequential models, prefer using an `Input(shape)` object as the first layer in the model instead.\n",
      "  super().__init__(\n"
     ]
    }
   ],
   "source": [
    "# create CNN model\n",
    "# 3 convulation layers with 32,64 and 128 filters respectively\n",
    "model = Sequential()\n",
    "\n",
    "# CONVULATION LAYERS + POOLING LAYERS\n",
    "model.add(Conv2D(32,kernel_size=(3,3),padding='valid',activation='relu',input_shape=(256,256,3)))\n",
    "model.add(BatchNormalization())\n",
    "model.add(MaxPooling2D(pool_size=(2,2),strides=2,padding='valid'))\n",
    "\n",
    "model.add(Conv2D(64,kernel_size=(3,3),padding='valid',activation='relu'))\n",
    "model.add(BatchNormalization())\n",
    "model.add(MaxPooling2D(pool_size=(2,2),strides=2,padding='valid'))\n",
    "\n",
    "model.add(Conv2D(128,kernel_size=(3,3),padding='valid',activation='relu'))\n",
    "model.add(BatchNormalization())\n",
    "model.add(MaxPooling2D(pool_size=(2,2),strides=2,padding='valid'))\n",
    "\n",
    "model.add(Flatten())\n",
    "\n",
    "# FULLY CONNECTED FC LAYERS\n",
    "model.add(Dense(128,activation='relu'))\n",
    "model.add(Dropout(0.1))\n",
    "model.add(Dense(64,activation='relu'))\n",
    "model.add(Dropout(0.1))\n",
    "model.add(Dense(1,activation='sigmoid'))"
   ]
  },
  {
   "cell_type": "code",
   "execution_count": 4,
   "id": "1fb75f8c",
   "metadata": {
    "execution": {
     "iopub.execute_input": "2024-04-08T22:43:10.551154Z",
     "iopub.status.busy": "2024-04-08T22:43:10.550494Z",
     "iopub.status.idle": "2024-04-08T22:43:10.581947Z",
     "shell.execute_reply": "2024-04-08T22:43:10.581120Z"
    },
    "papermill": {
     "duration": 0.040871,
     "end_time": "2024-04-08T22:43:10.583903",
     "exception": false,
     "start_time": "2024-04-08T22:43:10.543032",
     "status": "completed"
    },
    "tags": []
   },
   "outputs": [
    {
     "data": {
      "text/html": [
       "<pre style=\"white-space:pre;overflow-x:auto;line-height:normal;font-family:Menlo,'DejaVu Sans Mono',consolas,'Courier New',monospace\"><span style=\"font-weight: bold\">Model: \"sequential\"</span>\n",
       "</pre>\n"
      ],
      "text/plain": [
       "\u001b[1mModel: \"sequential\"\u001b[0m\n"
      ]
     },
     "metadata": {},
     "output_type": "display_data"
    },
    {
     "data": {
      "text/html": [
       "<pre style=\"white-space:pre;overflow-x:auto;line-height:normal;font-family:Menlo,'DejaVu Sans Mono',consolas,'Courier New',monospace\">┏━━━━━━━━━━━━━━━━━━━━━━━━━━━━━━━━━┳━━━━━━━━━━━━━━━━━━━━━━━━┳━━━━━━━━━━━━━━━┓\n",
       "┃<span style=\"font-weight: bold\"> Layer (type)                    </span>┃<span style=\"font-weight: bold\"> Output Shape           </span>┃<span style=\"font-weight: bold\">       Param # </span>┃\n",
       "┡━━━━━━━━━━━━━━━━━━━━━━━━━━━━━━━━━╇━━━━━━━━━━━━━━━━━━━━━━━━╇━━━━━━━━━━━━━━━┩\n",
       "│ conv2d (<span style=\"color: #0087ff; text-decoration-color: #0087ff\">Conv2D</span>)                 │ (<span style=\"color: #00d7ff; text-decoration-color: #00d7ff\">None</span>, <span style=\"color: #00af00; text-decoration-color: #00af00\">254</span>, <span style=\"color: #00af00; text-decoration-color: #00af00\">254</span>, <span style=\"color: #00af00; text-decoration-color: #00af00\">32</span>)   │           <span style=\"color: #00af00; text-decoration-color: #00af00\">896</span> │\n",
       "├─────────────────────────────────┼────────────────────────┼───────────────┤\n",
       "│ batch_normalization             │ (<span style=\"color: #00d7ff; text-decoration-color: #00d7ff\">None</span>, <span style=\"color: #00af00; text-decoration-color: #00af00\">254</span>, <span style=\"color: #00af00; text-decoration-color: #00af00\">254</span>, <span style=\"color: #00af00; text-decoration-color: #00af00\">32</span>)   │           <span style=\"color: #00af00; text-decoration-color: #00af00\">128</span> │\n",
       "│ (<span style=\"color: #0087ff; text-decoration-color: #0087ff\">BatchNormalization</span>)            │                        │               │\n",
       "├─────────────────────────────────┼────────────────────────┼───────────────┤\n",
       "│ max_pooling2d (<span style=\"color: #0087ff; text-decoration-color: #0087ff\">MaxPooling2D</span>)    │ (<span style=\"color: #00d7ff; text-decoration-color: #00d7ff\">None</span>, <span style=\"color: #00af00; text-decoration-color: #00af00\">127</span>, <span style=\"color: #00af00; text-decoration-color: #00af00\">127</span>, <span style=\"color: #00af00; text-decoration-color: #00af00\">32</span>)   │             <span style=\"color: #00af00; text-decoration-color: #00af00\">0</span> │\n",
       "├─────────────────────────────────┼────────────────────────┼───────────────┤\n",
       "│ conv2d_1 (<span style=\"color: #0087ff; text-decoration-color: #0087ff\">Conv2D</span>)               │ (<span style=\"color: #00d7ff; text-decoration-color: #00d7ff\">None</span>, <span style=\"color: #00af00; text-decoration-color: #00af00\">125</span>, <span style=\"color: #00af00; text-decoration-color: #00af00\">125</span>, <span style=\"color: #00af00; text-decoration-color: #00af00\">64</span>)   │        <span style=\"color: #00af00; text-decoration-color: #00af00\">18,496</span> │\n",
       "├─────────────────────────────────┼────────────────────────┼───────────────┤\n",
       "│ batch_normalization_1           │ (<span style=\"color: #00d7ff; text-decoration-color: #00d7ff\">None</span>, <span style=\"color: #00af00; text-decoration-color: #00af00\">125</span>, <span style=\"color: #00af00; text-decoration-color: #00af00\">125</span>, <span style=\"color: #00af00; text-decoration-color: #00af00\">64</span>)   │           <span style=\"color: #00af00; text-decoration-color: #00af00\">256</span> │\n",
       "│ (<span style=\"color: #0087ff; text-decoration-color: #0087ff\">BatchNormalization</span>)            │                        │               │\n",
       "├─────────────────────────────────┼────────────────────────┼───────────────┤\n",
       "│ max_pooling2d_1 (<span style=\"color: #0087ff; text-decoration-color: #0087ff\">MaxPooling2D</span>)  │ (<span style=\"color: #00d7ff; text-decoration-color: #00d7ff\">None</span>, <span style=\"color: #00af00; text-decoration-color: #00af00\">62</span>, <span style=\"color: #00af00; text-decoration-color: #00af00\">62</span>, <span style=\"color: #00af00; text-decoration-color: #00af00\">64</span>)     │             <span style=\"color: #00af00; text-decoration-color: #00af00\">0</span> │\n",
       "├─────────────────────────────────┼────────────────────────┼───────────────┤\n",
       "│ conv2d_2 (<span style=\"color: #0087ff; text-decoration-color: #0087ff\">Conv2D</span>)               │ (<span style=\"color: #00d7ff; text-decoration-color: #00d7ff\">None</span>, <span style=\"color: #00af00; text-decoration-color: #00af00\">60</span>, <span style=\"color: #00af00; text-decoration-color: #00af00\">60</span>, <span style=\"color: #00af00; text-decoration-color: #00af00\">128</span>)    │        <span style=\"color: #00af00; text-decoration-color: #00af00\">73,856</span> │\n",
       "├─────────────────────────────────┼────────────────────────┼───────────────┤\n",
       "│ batch_normalization_2           │ (<span style=\"color: #00d7ff; text-decoration-color: #00d7ff\">None</span>, <span style=\"color: #00af00; text-decoration-color: #00af00\">60</span>, <span style=\"color: #00af00; text-decoration-color: #00af00\">60</span>, <span style=\"color: #00af00; text-decoration-color: #00af00\">128</span>)    │           <span style=\"color: #00af00; text-decoration-color: #00af00\">512</span> │\n",
       "│ (<span style=\"color: #0087ff; text-decoration-color: #0087ff\">BatchNormalization</span>)            │                        │               │\n",
       "├─────────────────────────────────┼────────────────────────┼───────────────┤\n",
       "│ max_pooling2d_2 (<span style=\"color: #0087ff; text-decoration-color: #0087ff\">MaxPooling2D</span>)  │ (<span style=\"color: #00d7ff; text-decoration-color: #00d7ff\">None</span>, <span style=\"color: #00af00; text-decoration-color: #00af00\">30</span>, <span style=\"color: #00af00; text-decoration-color: #00af00\">30</span>, <span style=\"color: #00af00; text-decoration-color: #00af00\">128</span>)    │             <span style=\"color: #00af00; text-decoration-color: #00af00\">0</span> │\n",
       "├─────────────────────────────────┼────────────────────────┼───────────────┤\n",
       "│ flatten (<span style=\"color: #0087ff; text-decoration-color: #0087ff\">Flatten</span>)               │ (<span style=\"color: #00d7ff; text-decoration-color: #00d7ff\">None</span>, <span style=\"color: #00af00; text-decoration-color: #00af00\">115200</span>)         │             <span style=\"color: #00af00; text-decoration-color: #00af00\">0</span> │\n",
       "├─────────────────────────────────┼────────────────────────┼───────────────┤\n",
       "│ dense (<span style=\"color: #0087ff; text-decoration-color: #0087ff\">Dense</span>)                   │ (<span style=\"color: #00d7ff; text-decoration-color: #00d7ff\">None</span>, <span style=\"color: #00af00; text-decoration-color: #00af00\">128</span>)            │    <span style=\"color: #00af00; text-decoration-color: #00af00\">14,745,728</span> │\n",
       "├─────────────────────────────────┼────────────────────────┼───────────────┤\n",
       "│ dropout (<span style=\"color: #0087ff; text-decoration-color: #0087ff\">Dropout</span>)               │ (<span style=\"color: #00d7ff; text-decoration-color: #00d7ff\">None</span>, <span style=\"color: #00af00; text-decoration-color: #00af00\">128</span>)            │             <span style=\"color: #00af00; text-decoration-color: #00af00\">0</span> │\n",
       "├─────────────────────────────────┼────────────────────────┼───────────────┤\n",
       "│ dense_1 (<span style=\"color: #0087ff; text-decoration-color: #0087ff\">Dense</span>)                 │ (<span style=\"color: #00d7ff; text-decoration-color: #00d7ff\">None</span>, <span style=\"color: #00af00; text-decoration-color: #00af00\">64</span>)             │         <span style=\"color: #00af00; text-decoration-color: #00af00\">8,256</span> │\n",
       "├─────────────────────────────────┼────────────────────────┼───────────────┤\n",
       "│ dropout_1 (<span style=\"color: #0087ff; text-decoration-color: #0087ff\">Dropout</span>)             │ (<span style=\"color: #00d7ff; text-decoration-color: #00d7ff\">None</span>, <span style=\"color: #00af00; text-decoration-color: #00af00\">64</span>)             │             <span style=\"color: #00af00; text-decoration-color: #00af00\">0</span> │\n",
       "├─────────────────────────────────┼────────────────────────┼───────────────┤\n",
       "│ dense_2 (<span style=\"color: #0087ff; text-decoration-color: #0087ff\">Dense</span>)                 │ (<span style=\"color: #00d7ff; text-decoration-color: #00d7ff\">None</span>, <span style=\"color: #00af00; text-decoration-color: #00af00\">1</span>)              │            <span style=\"color: #00af00; text-decoration-color: #00af00\">65</span> │\n",
       "└─────────────────────────────────┴────────────────────────┴───────────────┘\n",
       "</pre>\n"
      ],
      "text/plain": [
       "┏━━━━━━━━━━━━━━━━━━━━━━━━━━━━━━━━━┳━━━━━━━━━━━━━━━━━━━━━━━━┳━━━━━━━━━━━━━━━┓\n",
       "┃\u001b[1m \u001b[0m\u001b[1mLayer (type)                   \u001b[0m\u001b[1m \u001b[0m┃\u001b[1m \u001b[0m\u001b[1mOutput Shape          \u001b[0m\u001b[1m \u001b[0m┃\u001b[1m \u001b[0m\u001b[1m      Param #\u001b[0m\u001b[1m \u001b[0m┃\n",
       "┡━━━━━━━━━━━━━━━━━━━━━━━━━━━━━━━━━╇━━━━━━━━━━━━━━━━━━━━━━━━╇━━━━━━━━━━━━━━━┩\n",
       "│ conv2d (\u001b[38;5;33mConv2D\u001b[0m)                 │ (\u001b[38;5;45mNone\u001b[0m, \u001b[38;5;34m254\u001b[0m, \u001b[38;5;34m254\u001b[0m, \u001b[38;5;34m32\u001b[0m)   │           \u001b[38;5;34m896\u001b[0m │\n",
       "├─────────────────────────────────┼────────────────────────┼───────────────┤\n",
       "│ batch_normalization             │ (\u001b[38;5;45mNone\u001b[0m, \u001b[38;5;34m254\u001b[0m, \u001b[38;5;34m254\u001b[0m, \u001b[38;5;34m32\u001b[0m)   │           \u001b[38;5;34m128\u001b[0m │\n",
       "│ (\u001b[38;5;33mBatchNormalization\u001b[0m)            │                        │               │\n",
       "├─────────────────────────────────┼────────────────────────┼───────────────┤\n",
       "│ max_pooling2d (\u001b[38;5;33mMaxPooling2D\u001b[0m)    │ (\u001b[38;5;45mNone\u001b[0m, \u001b[38;5;34m127\u001b[0m, \u001b[38;5;34m127\u001b[0m, \u001b[38;5;34m32\u001b[0m)   │             \u001b[38;5;34m0\u001b[0m │\n",
       "├─────────────────────────────────┼────────────────────────┼───────────────┤\n",
       "│ conv2d_1 (\u001b[38;5;33mConv2D\u001b[0m)               │ (\u001b[38;5;45mNone\u001b[0m, \u001b[38;5;34m125\u001b[0m, \u001b[38;5;34m125\u001b[0m, \u001b[38;5;34m64\u001b[0m)   │        \u001b[38;5;34m18,496\u001b[0m │\n",
       "├─────────────────────────────────┼────────────────────────┼───────────────┤\n",
       "│ batch_normalization_1           │ (\u001b[38;5;45mNone\u001b[0m, \u001b[38;5;34m125\u001b[0m, \u001b[38;5;34m125\u001b[0m, \u001b[38;5;34m64\u001b[0m)   │           \u001b[38;5;34m256\u001b[0m │\n",
       "│ (\u001b[38;5;33mBatchNormalization\u001b[0m)            │                        │               │\n",
       "├─────────────────────────────────┼────────────────────────┼───────────────┤\n",
       "│ max_pooling2d_1 (\u001b[38;5;33mMaxPooling2D\u001b[0m)  │ (\u001b[38;5;45mNone\u001b[0m, \u001b[38;5;34m62\u001b[0m, \u001b[38;5;34m62\u001b[0m, \u001b[38;5;34m64\u001b[0m)     │             \u001b[38;5;34m0\u001b[0m │\n",
       "├─────────────────────────────────┼────────────────────────┼───────────────┤\n",
       "│ conv2d_2 (\u001b[38;5;33mConv2D\u001b[0m)               │ (\u001b[38;5;45mNone\u001b[0m, \u001b[38;5;34m60\u001b[0m, \u001b[38;5;34m60\u001b[0m, \u001b[38;5;34m128\u001b[0m)    │        \u001b[38;5;34m73,856\u001b[0m │\n",
       "├─────────────────────────────────┼────────────────────────┼───────────────┤\n",
       "│ batch_normalization_2           │ (\u001b[38;5;45mNone\u001b[0m, \u001b[38;5;34m60\u001b[0m, \u001b[38;5;34m60\u001b[0m, \u001b[38;5;34m128\u001b[0m)    │           \u001b[38;5;34m512\u001b[0m │\n",
       "│ (\u001b[38;5;33mBatchNormalization\u001b[0m)            │                        │               │\n",
       "├─────────────────────────────────┼────────────────────────┼───────────────┤\n",
       "│ max_pooling2d_2 (\u001b[38;5;33mMaxPooling2D\u001b[0m)  │ (\u001b[38;5;45mNone\u001b[0m, \u001b[38;5;34m30\u001b[0m, \u001b[38;5;34m30\u001b[0m, \u001b[38;5;34m128\u001b[0m)    │             \u001b[38;5;34m0\u001b[0m │\n",
       "├─────────────────────────────────┼────────────────────────┼───────────────┤\n",
       "│ flatten (\u001b[38;5;33mFlatten\u001b[0m)               │ (\u001b[38;5;45mNone\u001b[0m, \u001b[38;5;34m115200\u001b[0m)         │             \u001b[38;5;34m0\u001b[0m │\n",
       "├─────────────────────────────────┼────────────────────────┼───────────────┤\n",
       "│ dense (\u001b[38;5;33mDense\u001b[0m)                   │ (\u001b[38;5;45mNone\u001b[0m, \u001b[38;5;34m128\u001b[0m)            │    \u001b[38;5;34m14,745,728\u001b[0m │\n",
       "├─────────────────────────────────┼────────────────────────┼───────────────┤\n",
       "│ dropout (\u001b[38;5;33mDropout\u001b[0m)               │ (\u001b[38;5;45mNone\u001b[0m, \u001b[38;5;34m128\u001b[0m)            │             \u001b[38;5;34m0\u001b[0m │\n",
       "├─────────────────────────────────┼────────────────────────┼───────────────┤\n",
       "│ dense_1 (\u001b[38;5;33mDense\u001b[0m)                 │ (\u001b[38;5;45mNone\u001b[0m, \u001b[38;5;34m64\u001b[0m)             │         \u001b[38;5;34m8,256\u001b[0m │\n",
       "├─────────────────────────────────┼────────────────────────┼───────────────┤\n",
       "│ dropout_1 (\u001b[38;5;33mDropout\u001b[0m)             │ (\u001b[38;5;45mNone\u001b[0m, \u001b[38;5;34m64\u001b[0m)             │             \u001b[38;5;34m0\u001b[0m │\n",
       "├─────────────────────────────────┼────────────────────────┼───────────────┤\n",
       "│ dense_2 (\u001b[38;5;33mDense\u001b[0m)                 │ (\u001b[38;5;45mNone\u001b[0m, \u001b[38;5;34m1\u001b[0m)              │            \u001b[38;5;34m65\u001b[0m │\n",
       "└─────────────────────────────────┴────────────────────────┴───────────────┘\n"
      ]
     },
     "metadata": {},
     "output_type": "display_data"
    },
    {
     "data": {
      "text/html": [
       "<pre style=\"white-space:pre;overflow-x:auto;line-height:normal;font-family:Menlo,'DejaVu Sans Mono',consolas,'Courier New',monospace\"><span style=\"font-weight: bold\"> Total params: </span><span style=\"color: #00af00; text-decoration-color: #00af00\">14,848,193</span> (56.64 MB)\n",
       "</pre>\n"
      ],
      "text/plain": [
       "\u001b[1m Total params: \u001b[0m\u001b[38;5;34m14,848,193\u001b[0m (56.64 MB)\n"
      ]
     },
     "metadata": {},
     "output_type": "display_data"
    },
    {
     "data": {
      "text/html": [
       "<pre style=\"white-space:pre;overflow-x:auto;line-height:normal;font-family:Menlo,'DejaVu Sans Mono',consolas,'Courier New',monospace\"><span style=\"font-weight: bold\"> Trainable params: </span><span style=\"color: #00af00; text-decoration-color: #00af00\">14,847,745</span> (56.64 MB)\n",
       "</pre>\n"
      ],
      "text/plain": [
       "\u001b[1m Trainable params: \u001b[0m\u001b[38;5;34m14,847,745\u001b[0m (56.64 MB)\n"
      ]
     },
     "metadata": {},
     "output_type": "display_data"
    },
    {
     "data": {
      "text/html": [
       "<pre style=\"white-space:pre;overflow-x:auto;line-height:normal;font-family:Menlo,'DejaVu Sans Mono',consolas,'Courier New',monospace\"><span style=\"font-weight: bold\"> Non-trainable params: </span><span style=\"color: #00af00; text-decoration-color: #00af00\">448</span> (1.75 KB)\n",
       "</pre>\n"
      ],
      "text/plain": [
       "\u001b[1m Non-trainable params: \u001b[0m\u001b[38;5;34m448\u001b[0m (1.75 KB)\n"
      ]
     },
     "metadata": {},
     "output_type": "display_data"
    }
   ],
   "source": [
    "model.summary()"
   ]
  },
  {
   "cell_type": "code",
   "execution_count": 5,
   "id": "c5878124",
   "metadata": {
    "execution": {
     "iopub.execute_input": "2024-04-08T22:43:10.600031Z",
     "iopub.status.busy": "2024-04-08T22:43:10.599710Z",
     "iopub.status.idle": "2024-04-08T22:43:10.612052Z",
     "shell.execute_reply": "2024-04-08T22:43:10.611317Z"
    },
    "papermill": {
     "duration": 0.022883,
     "end_time": "2024-04-08T22:43:10.614153",
     "exception": false,
     "start_time": "2024-04-08T22:43:10.591270",
     "status": "completed"
    },
    "tags": []
   },
   "outputs": [],
   "source": [
    "# MODEL COMPILATION - BINARY CLASSIFICATION PROBLEM\n",
    "model.compile(optimizer='adam',loss='binary_crossentropy',metrics=['accuracy'])"
   ]
  },
  {
   "cell_type": "markdown",
   "id": "a3531528",
   "metadata": {
    "papermill": {
     "duration": 0.007219,
     "end_time": "2024-04-08T22:43:10.628633",
     "exception": false,
     "start_time": "2024-04-08T22:43:10.621414",
     "status": "completed"
    },
    "tags": []
   },
   "source": [
    "Select Hardware Accelerator - GPU to fasten the Training period"
   ]
  },
  {
   "cell_type": "markdown",
   "id": "d63c9bb4",
   "metadata": {
    "papermill": {
     "duration": 0.00754,
     "end_time": "2024-04-08T22:43:10.644601",
     "exception": false,
     "start_time": "2024-04-08T22:43:10.637061",
     "status": "completed"
    },
    "tags": []
   },
   "source": []
  },
  {
   "cell_type": "code",
   "execution_count": 6,
   "id": "8e67d378",
   "metadata": {
    "execution": {
     "iopub.execute_input": "2024-04-08T22:43:10.661187Z",
     "iopub.status.busy": "2024-04-08T22:43:10.660874Z",
     "iopub.status.idle": "2024-04-08T22:50:06.296716Z",
     "shell.execute_reply": "2024-04-08T22:50:06.295690Z"
    },
    "papermill": {
     "duration": 415.64687,
     "end_time": "2024-04-08T22:50:06.299037",
     "exception": false,
     "start_time": "2024-04-08T22:43:10.652167",
     "status": "completed"
    },
    "tags": []
   },
   "outputs": [
    {
     "name": "stdout",
     "output_type": "stream",
     "text": [
      "Epoch 1/10\n",
      "\u001b[1m  2/500\u001b[0m \u001b[37m━━━━━━━━━━━━━━━━━━━━\u001b[0m \u001b[1m47s\u001b[0m 96ms/step - accuracy: 0.5078 - loss: 8.5192   "
     ]
    },
    {
     "name": "stderr",
     "output_type": "stream",
     "text": [
      "WARNING: All log messages before absl::InitializeLog() is called are written to STDERR\n",
      "I0000 00:00:1712616208.149992      79 device_compiler.h:186] Compiled cluster using XLA!  This line is logged at most once for the lifetime of the process.\n",
      "W0000 00:00:1712616208.171131      79 graph_launch.cc:671] Fallback to op-by-op mode because memset node breaks graph update\n"
     ]
    },
    {
     "name": "stdout",
     "output_type": "stream",
     "text": [
      "\u001b[1m500/500\u001b[0m \u001b[32m━━━━━━━━━━━━━━━━━━━━\u001b[0m\u001b[37m\u001b[0m \u001b[1m0s\u001b[0m 70ms/step - accuracy: 0.5360 - loss: 2.7232"
     ]
    },
    {
     "name": "stderr",
     "output_type": "stream",
     "text": [
      "W0000 00:00:1712616244.136493      80 graph_launch.cc:671] Fallback to op-by-op mode because memset node breaks graph update\n"
     ]
    },
    {
     "name": "stdout",
     "output_type": "stream",
     "text": [
      "\u001b[1m500/500\u001b[0m \u001b[32m━━━━━━━━━━━━━━━━━━━━\u001b[0m\u001b[37m\u001b[0m \u001b[1m59s\u001b[0m 82ms/step - accuracy: 0.5360 - loss: 2.7207 - val_accuracy: 0.5705 - val_loss: 0.7370\n",
      "Epoch 2/10\n",
      "\u001b[1m500/500\u001b[0m \u001b[32m━━━━━━━━━━━━━━━━━━━━\u001b[0m\u001b[37m\u001b[0m \u001b[1m39s\u001b[0m 78ms/step - accuracy: 0.5523 - loss: 0.6753 - val_accuracy: 0.5620 - val_loss: 0.7936\n",
      "Epoch 3/10\n",
      "\u001b[1m500/500\u001b[0m \u001b[32m━━━━━━━━━━━━━━━━━━━━\u001b[0m\u001b[37m\u001b[0m \u001b[1m40s\u001b[0m 79ms/step - accuracy: 0.5876 - loss: 0.6487 - val_accuracy: 0.6080 - val_loss: 0.6101\n",
      "Epoch 4/10\n",
      "\u001b[1m500/500\u001b[0m \u001b[32m━━━━━━━━━━━━━━━━━━━━\u001b[0m\u001b[37m\u001b[0m \u001b[1m40s\u001b[0m 79ms/step - accuracy: 0.6489 - loss: 0.5966 - val_accuracy: 0.7040 - val_loss: 0.5249\n",
      "Epoch 5/10\n",
      "\u001b[1m500/500\u001b[0m \u001b[32m━━━━━━━━━━━━━━━━━━━━\u001b[0m\u001b[37m\u001b[0m \u001b[1m40s\u001b[0m 79ms/step - accuracy: 0.7193 - loss: 0.5137 - val_accuracy: 0.7508 - val_loss: 0.5261\n",
      "Epoch 6/10\n",
      "\u001b[1m500/500\u001b[0m \u001b[32m━━━━━━━━━━━━━━━━━━━━\u001b[0m\u001b[37m\u001b[0m \u001b[1m40s\u001b[0m 79ms/step - accuracy: 0.7554 - loss: 0.4564 - val_accuracy: 0.7467 - val_loss: 0.5544\n",
      "Epoch 7/10\n",
      "\u001b[1m500/500\u001b[0m \u001b[32m━━━━━━━━━━━━━━━━━━━━\u001b[0m\u001b[37m\u001b[0m \u001b[1m40s\u001b[0m 79ms/step - accuracy: 0.7784 - loss: 0.4088 - val_accuracy: 0.6505 - val_loss: 1.0257\n",
      "Epoch 8/10\n",
      "\u001b[1m500/500\u001b[0m \u001b[32m━━━━━━━━━━━━━━━━━━━━\u001b[0m\u001b[37m\u001b[0m \u001b[1m40s\u001b[0m 79ms/step - accuracy: 0.8101 - loss: 0.3560 - val_accuracy: 0.7498 - val_loss: 0.4826\n",
      "Epoch 9/10\n",
      "\u001b[1m500/500\u001b[0m \u001b[32m━━━━━━━━━━━━━━━━━━━━\u001b[0m\u001b[37m\u001b[0m \u001b[1m40s\u001b[0m 79ms/step - accuracy: 0.8344 - loss: 0.3075 - val_accuracy: 0.7835 - val_loss: 0.5888\n",
      "Epoch 10/10\n",
      "\u001b[1m500/500\u001b[0m \u001b[32m━━━━━━━━━━━━━━━━━━━━\u001b[0m\u001b[37m\u001b[0m \u001b[1m40s\u001b[0m 79ms/step - accuracy: 0.8587 - loss: 0.2697 - val_accuracy: 0.7788 - val_loss: 0.5254\n"
     ]
    }
   ],
   "source": [
    "# EXECUTE THE MODEL\n",
    "history = model.fit(train_ds,epochs=10,validation_data=validation_ds)"
   ]
  },
  {
   "cell_type": "markdown",
   "id": "a7520056",
   "metadata": {
    "papermill": {
     "duration": 0.423708,
     "end_time": "2024-04-08T22:50:07.157343",
     "exception": false,
     "start_time": "2024-04-08T22:50:06.733635",
     "status": "completed"
    },
    "tags": []
   },
   "source": [
    "Result - \n",
    "\n",
    "Epoch 10/10\n",
    "500/500 ━━━━━━━━━━━━━━━━━━━━ 40s 79ms/step - accuracy: 0.8375 - loss: 0.3402 - val_accuracy: 0.8018 - val_loss: 0.4724"
   ]
  },
  {
   "cell_type": "markdown",
   "id": "b286185d",
   "metadata": {
    "papermill": {
     "duration": 0.452029,
     "end_time": "2024-04-08T22:50:08.055526",
     "exception": false,
     "start_time": "2024-04-08T22:50:07.603497",
     "status": "completed"
    },
    "tags": []
   },
   "source": [
    "**Visualize the result:-**"
   ]
  },
  {
   "cell_type": "markdown",
   "id": "39887226",
   "metadata": {
    "papermill": {
     "duration": 0.426285,
     "end_time": "2024-04-08T22:50:08.964825",
     "exception": false,
     "start_time": "2024-04-08T22:50:08.538540",
     "status": "completed"
    },
    "tags": []
   },
   "source": [
    "1. Training Accuracy vs Validation Accuracy"
   ]
  },
  {
   "cell_type": "code",
   "execution_count": 7,
   "id": "5600c771",
   "metadata": {
    "execution": {
     "iopub.execute_input": "2024-04-08T22:50:09.829714Z",
     "iopub.status.busy": "2024-04-08T22:50:09.829341Z",
     "iopub.status.idle": "2024-04-08T22:50:10.058961Z",
     "shell.execute_reply": "2024-04-08T22:50:10.057897Z"
    },
    "papermill": {
     "duration": 0.662382,
     "end_time": "2024-04-08T22:50:10.061171",
     "exception": false,
     "start_time": "2024-04-08T22:50:09.398789",
     "status": "completed"
    },
    "tags": []
   },
   "outputs": [
    {
     "data": {
      "image/png": "[encoded data removed]",
      "text/plain": [
       "<Figure size 640x480 with 1 Axes>"
      ]
     },
     "metadata": {},
     "output_type": "display_data"
    }
   ],
   "source": [
    "import matplotlib.pyplot as plt\n",
    "\n",
    "plt.plot(history.history['accuracy'],color='red',label='train')\n",
    "plt.plot(history.history['val_accuracy'],color='blue',label='validation')\n",
    "plt.legend()\n",
    "plt.show()"
   ]
  },
  {
   "cell_type": "markdown",
   "id": "7bf81ea5",
   "metadata": {
    "papermill": {
     "duration": 0.467577,
     "end_time": "2024-04-08T22:50:10.967784",
     "exception": false,
     "start_time": "2024-04-08T22:50:10.500207",
     "status": "completed"
    },
    "tags": []
   },
   "source": [
    "2. Training Loss vs Validation Loss"
   ]
  },
  {
   "cell_type": "code",
   "execution_count": 8,
   "id": "a79e63c5",
   "metadata": {
    "execution": {
     "iopub.execute_input": "2024-04-08T22:50:11.822851Z",
     "iopub.status.busy": "2024-04-08T22:50:11.821915Z",
     "iopub.status.idle": "2024-04-08T22:50:12.011276Z",
     "shell.execute_reply": "2024-04-08T22:50:12.010411Z"
    },
    "papermill": {
     "duration": 0.616801,
     "end_time": "2024-04-08T22:50:12.013538",
     "exception": false,
     "start_time": "2024-04-08T22:50:11.396737",
     "status": "completed"
    },
    "tags": []
   },
   "outputs": [
    {
     "data": {
      "image/png": "[encoded data removed]",
      "text/plain": [
       "<Figure size 640x480 with 1 Axes>"
      ]
     },
     "metadata": {},
     "output_type": "display_data"
    }
   ],
   "source": [
    "plt.plot(history.history['loss'],color='red',label='train')\n",
    "plt.plot(history.history['val_loss'],color='blue',label='validation')\n",
    "plt.legend()\n",
    "plt.show()"
   ]
  },
  {
   "cell_type": "markdown",
   "id": "c7927727",
   "metadata": {
    "papermill": {
     "duration": 0.450464,
     "end_time": "2024-04-08T22:50:12.905183",
     "exception": false,
     "start_time": "2024-04-08T22:50:12.454719",
     "status": "completed"
    },
    "tags": []
   },
   "source": [
    "**Handle Overfitting**"
   ]
  },
  {
   "cell_type": "markdown",
   "id": "1604b500",
   "metadata": {
    "papermill": {
     "duration": 0.43314,
     "end_time": "2024-04-08T22:50:13.802534",
     "exception": false,
     "start_time": "2024-04-08T22:50:13.369394",
     "status": "completed"
    },
    "tags": []
   },
   "source": [
    "* Increase the size of the training dataset.\n",
    "* Apply data augmentation techniques.\n",
    "* Implement L1 or L2 regularization.\n",
    "* Utilize dropout layers during model training.\n",
    "* Incorporate batch normalization layers.\n",
    "* Reduce model complexity by adjusting the number of layers or neurons."
   ]
  },
  {
   "cell_type": "markdown",
   "id": "8e71335f",
   "metadata": {
    "papermill": {
     "duration": 0.42489,
     "end_time": "2024-04-08T22:50:14.646930",
     "exception": false,
     "start_time": "2024-04-08T22:50:14.222040",
     "status": "completed"
    },
    "tags": []
   },
   "source": []
  },
  {
   "cell_type": "markdown",
   "id": "b3a9f744",
   "metadata": {
    "papermill": {
     "duration": 0.429168,
     "end_time": "2024-04-08T22:50:15.493734",
     "exception": false,
     "start_time": "2024-04-08T22:50:15.064566",
     "status": "completed"
    },
    "tags": []
   },
   "source": []
  },
  {
   "cell_type": "markdown",
   "id": "17059354",
   "metadata": {
    "papermill": {
     "duration": 0.442184,
     "end_time": "2024-04-08T22:50:16.406910",
     "exception": false,
     "start_time": "2024-04-08T22:50:15.964726",
     "status": "completed"
    },
    "tags": []
   },
   "source": [
    "**Conclusion**"
   ]
  },
  {
   "cell_type": "markdown",
   "id": "24cfdb6c",
   "metadata": {
    "papermill": {
     "duration": 0.430503,
     "end_time": "2024-04-08T22:50:17.267079",
     "exception": false,
     "start_time": "2024-04-08T22:50:16.836576",
     "status": "completed"
    },
    "tags": []
   },
   "source": [
    "In conclusion, this notebook successfully addresses the issue of overfitting by implementing batch normalization and dropout layers. While these techniques have proven effective, further enhancements can be explored by incorporating additional strategies mentioned earlier, such as data augmentation and regularization methods. By continually refining the model with these approaches, we aim to achieve a robust and generalizable solution for our classification task"
   ]
  },
  {
   "cell_type": "code",
   "execution_count": null,
   "id": "55780447",
   "metadata": {
    "papermill": {
     "duration": 0.423172,
     "end_time": "2024-04-08T22:50:18.116655",
     "exception": false,
     "start_time": "2024-04-08T22:50:17.693483",
     "status": "completed"
    },
    "tags": []
   },
   "outputs": [],
   "source": []
  }
 ],
 "metadata": {
  "kaggle": {
   "accelerator": "nvidiaTeslaT4",
   "dataSources": [
    {
     "datasetId": 84954,
     "sourceId": 196452,
     "sourceType": "datasetVersion"
    }
   ],
   "dockerImageVersionId": 30683,
   "isGpuEnabled": true,
   "isInternetEnabled": true,
   "language": "python",
   "sourceType": "notebook"
  },
  "kernelspec": {
   "display_name": "Python 3",
   "language": "python",
   "name": "python3"
  },
  "language_info": {
   "codemirror_mode": {
    "name": "ipython",
    "version": 3
   },
   "file_extension": ".py",
   "mimetype": "text/x-python",
   "name": "python",
   "nbconvert_exporter": "python",
   "pygments_lexer": "ipython3",
   "version": "3.10.13"
  },
  "papermill": {
   "default_parameters": {},
   "duration": 465.599157,
   "end_time": "2024-04-08T22:50:20.838265",
   "environment_variables": {},
   "exception": null,
   "input_path": "__notebook__.ipynb",
   "output_path": "__notebook__.ipynb",
   "parameters": {},
   "start_time": "2024-04-08T22:42:35.239108",
   "version": "2.5.0"
  }
 },
 "nbformat": 4,
 "nbformat_minor": 5
}
